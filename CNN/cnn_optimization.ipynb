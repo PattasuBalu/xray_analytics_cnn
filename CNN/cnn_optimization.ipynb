{
 "cells": [
  {
   "cell_type": "code",
   "execution_count": 1,
   "id": "16262f68",
   "metadata": {
    "tags": []
   },
   "outputs": [],
   "source": [
    "import os\n",
    "os.environ['TF_CPP_MIN_LOG_LEVEL'] = '3' \n",
    "import tensorflow as tf\n",
    "from tensorflow.keras.preprocessing.image import ImageDataGenerator\n",
    "import os \n",
    "import numpy as np\n",
    "import matplotlib.pyplot as plt\n",
    "from sklearn.metrics import confusion_matrix\n",
    "from hyperopt import hp, fmin, tpe, Trials\n",
    "import itertools"
   ]
  },
  {
   "cell_type": "code",
   "execution_count": 2,
   "id": "8be2623e",
   "metadata": {
    "tags": []
   },
   "outputs": [
    {
     "name": "stdout",
     "output_type": "stream",
     "text": [
      "[PhysicalDevice(name='/physical_device:GPU:0', device_type='GPU')]\n"
     ]
    }
   ],
   "source": [
    "train = '/mnt/NewVolume/DUMP/Notebook/xray_analytics_cnn/data/BoneFractureDataset/training'\n",
    "test = '/mnt/NewVolume/DUMP/Notebook/xray_analytics_cnn/data/BoneFractureDataset/testing'\n",
    "\n",
    "gpus = tf.config.experimental.list_physical_devices('GPU')\n",
    "print(gpus)\n",
    "for gpu in gpus: \n",
    "    tf.config.experimental.set_memory_growth(gpu, True)"
   ]
  },
  {
   "cell_type": "code",
   "execution_count": 3,
   "id": "3891cd9e-0679-4fb8-8d92-15ba1ce6a9a8",
   "metadata": {
    "tags": []
   },
   "outputs": [],
   "source": [
    "#Preprocessing"
   ]
  },
  {
   "cell_type": "code",
   "execution_count": 4,
   "id": "74544ea2-cefa-46f1-94f9-65c6ff5f0793",
   "metadata": {
    "tags": []
   },
   "outputs": [],
   "source": [
    "def scale_images(x, y):\n",
    "    return x / 255, y"
   ]
  },
  {
   "cell_type": "code",
   "execution_count": 5,
   "id": "690eff42-a59a-4ec6-b1c1-2bda92fac9c2",
   "metadata": {
    "tags": []
   },
   "outputs": [
    {
     "name": "stdout",
     "output_type": "stream",
     "text": [
      "Found 8863 files belonging to 2 classes.\n",
      "Using 7091 files for training.\n",
      "222\n"
     ]
    }
   ],
   "source": [
    "train_data = tf.keras.utils.image_dataset_from_directory(train, image_size=(256, 256), labels=\"inferred\", label_mode=\"binary\", validation_split=0.2, subset=\"training\",seed=42)\n",
    "train_data = train_data.map(scale_images)\n",
    "train_size = int(len(train_data))\n",
    "train_data_final = train_data.take(train_size)\n",
    "print(train_size)"
   ]
  },
  {
   "cell_type": "code",
   "execution_count": 6,
   "id": "59a973f2",
   "metadata": {
    "tags": []
   },
   "outputs": [
    {
     "name": "stdout",
     "output_type": "stream",
     "text": [
      "Found 8863 files belonging to 2 classes.\n",
      "Using 1772 files for validation.\n",
      "56\n"
     ]
    }
   ],
   "source": [
    "val_data = tf.keras.utils.image_dataset_from_directory(train, image_size=(256, 256), labels=\"inferred\", label_mode=\"binary\", validation_split=0.2, subset=\"validation\", seed=42)\n",
    "val_data = val_data.map(scale_images)\n",
    "val_data_final = val_data.take(len(val_data))\n",
    "print(len(val_data))"
   ]
  },
  {
   "cell_type": "code",
   "execution_count": 7,
   "id": "83696f4e",
   "metadata": {
    "tags": []
   },
   "outputs": [],
   "source": [
    "#The Model"
   ]
  },
  {
   "cell_type": "code",
   "execution_count": 9,
   "id": "a8f3d409",
   "metadata": {
    "tags": []
   },
   "outputs": [
    {
     "name": "stdout",
     "output_type": "stream",
     "text": [
      "100%|████████| 20/20 [40:44<00:00, 122.23s/trial, best loss: -0.993228018283844]\n",
      "Best hyperparameters:\n",
      "{'activation_function': 0, 'learning_rate': 0, 'neurons': 0, 'optimizer': 2}\n"
     ]
    }
   ],
   "source": [
    "import numpy as np\n",
    "from tensorflow.keras.models import Sequential\n",
    "from tensorflow.keras.layers import Conv2D, MaxPooling2D, Dense, Flatten, Dropout, AveragePooling2D\n",
    "from tensorflow.keras.optimizers import Adam, SGD, RMSprop\n",
    "from hyperopt import hp, fmin, tpe, Trials\n",
    "\n",
    "# Define the search space for hyperparameters\n",
    "space = {\n",
    "    'learning_rate': hp.choice('learning_rate', [1e-3, 1e-4, 1e-5, 1e-6]),  # Learning rate choice\n",
    "    'optimizer': hp.choice('optimizer', [Adam, SGD, RMSprop]),   # Optimizer choice\n",
    "    'neurons': hp.choice('neurons', [64, 128, 256]),    # Number of neurons in the activation layer\n",
    "    'activation_function': hp.choice('activation_function', ['relu', 'tanh', 'sigmoid'])  # Activation function choice\n",
    "}\n",
    "\n",
    "# Define the objective function to optimize\n",
    "def objective(params):\n",
    "    model = Sequential()\n",
    "\n",
    "    model.add(Conv2D(16, (3, 3), activation=params['activation_function'], input_shape=(256, 256, 3)))\n",
    "    model.add(AveragePooling2D())\n",
    "\n",
    "    model.add(Conv2D(32, (3, 3), activation=params['activation_function']))\n",
    "    model.add(MaxPooling2D())\n",
    "\n",
    "    model.add(Conv2D(16, (3, 3), activation=params['activation_function']))\n",
    "    model.add(MaxPooling2D())\n",
    "\n",
    "    model.add(Conv2D(32, (3, 3), activation=params['activation_function']))\n",
    "    model.add(MaxPooling2D())\n",
    "\n",
    "    model.add(Conv2D(16, (3, 3), activation=params['activation_function']))\n",
    "    model.add(MaxPooling2D())\n",
    "\n",
    "    model.add(Flatten())\n",
    "\n",
    "    model.add(Dense(params['neurons'], activation=params['activation_function']))\n",
    "\n",
    "    model.add(Dense(1, activation='sigmoid'))\n",
    "\n",
    "    optimizer = params['optimizer'](learning_rate=params['learning_rate'])\n",
    "    model.compile(optimizer=optimizer, loss='binary_crossentropy', metrics=['accuracy'])\n",
    "\n",
    "    early_stopping = EarlyStopping(monitor='val_loss', patience=2, restore_best_weights=True)\n",
    "    history = model.fit(train_data_final, epochs=10, validation_data=val_data_final, callbacks=[early_stopping],verbose=0)\n",
    "    \n",
    "    # Calculate the validation accuracy\n",
    "    val_accuracy = np.max(history.history['val_accuracy'])\n",
    "    return -val_accuracy  # We negate it because hyperopt minimizes the objective function\n",
    "\n",
    "# Create a Trials object to keep track of the optimization process\n",
    "trials = Trials()\n",
    "\n",
    "# Perform Bayesian optimization to find the best hyperparameters\n",
    "best = fmin(fn=objective, space=space, algo=tpe.suggest, max_evals=20, trials=trials)\n",
    "\n",
    "# Print the best hyperparameters found\n",
    "print(\"Best hyperparameters:\")\n",
    "print(best)"
   ]
  }
 ],
 "metadata": {
  "kernelspec": {
   "display_name": "Python 3 (ipykernel)",
   "language": "python",
   "name": "python3"
  },
  "language_info": {
   "codemirror_mode": {
    "name": "ipython",
    "version": 3
   },
   "file_extension": ".py",
   "mimetype": "text/x-python",
   "name": "python",
   "nbconvert_exporter": "python",
   "pygments_lexer": "ipython3",
   "version": "3.8.18"
  }
 },
 "nbformat": 4,
 "nbformat_minor": 5
}
