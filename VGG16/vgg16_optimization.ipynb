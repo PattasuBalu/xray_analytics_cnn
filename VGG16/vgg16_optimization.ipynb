{
 "cells": [
  {
   "cell_type": "code",
   "execution_count": 1,
   "id": "0a8bb472-2f0a-43ae-9bb6-27912a91d2f4",
   "metadata": {
    "tags": []
   },
   "outputs": [],
   "source": [
    "import os\n",
    "os.environ['TF_CPP_MIN_LOG_LEVEL'] = '3' \n",
    "import tensorflow as tf\n",
    "from tensorflow.keras.preprocessing.image import ImageDataGenerator\n",
    "import os \n",
    "import numpy as np\n",
    "import matplotlib.pyplot as plt\n",
    "from sklearn.metrics import classification_report\n",
    "from sklearn.metrics import confusion_matrix\n",
    "import itertools"
   ]
  },
  {
   "cell_type": "code",
   "execution_count": 2,
   "id": "0a003b31-0a36-411c-8795-28cf08c7d785",
   "metadata": {
    "tags": []
   },
   "outputs": [
    {
     "name": "stdout",
     "output_type": "stream",
     "text": [
      "[PhysicalDevice(name='/physical_device:GPU:0', device_type='GPU')]\n"
     ]
    }
   ],
   "source": [
    "train = '/mnt/NewVolume/DUMP/Notebook/xray_analytics_cnn/data/BoneFractureDataset/training'\n",
    "test = '/mnt/NewVolume/DUMP/Notebook/xray_analytics_cnn/data/BoneFractureDataset/testing'\n",
    "\n",
    "gpus = tf.config.experimental.list_physical_devices('GPU')\n",
    "print(gpus)\n",
    "for gpu in gpus: \n",
    "    tf.config.experimental.set_memory_growth(gpu, True)"
   ]
  },
  {
   "cell_type": "code",
   "execution_count": 3,
   "id": "a6bcffa5-433f-4332-879e-cccc11a3824d",
   "metadata": {
    "tags": []
   },
   "outputs": [],
   "source": [
    "#Preprocessing"
   ]
  },
  {
   "cell_type": "code",
   "execution_count": 4,
   "id": "47120203-7bb7-426d-af6b-a57af88c4c7f",
   "metadata": {
    "tags": []
   },
   "outputs": [],
   "source": [
    "def scale_images(x, y):\n",
    "    return x / 255, y"
   ]
  },
  {
   "cell_type": "code",
   "execution_count": 5,
   "id": "3050229e-4721-4881-9266-3843d84704f1",
   "metadata": {
    "tags": []
   },
   "outputs": [
    {
     "name": "stdout",
     "output_type": "stream",
     "text": [
      "Found 8863 files belonging to 2 classes.\n",
      "Using 7091 files for training.\n",
      "222\n"
     ]
    }
   ],
   "source": [
    "train_data = tf.keras.utils.image_dataset_from_directory(train, image_size=(256, 256), labels=\"inferred\", label_mode=\"categorical\", validation_split=0.2, subset=\"training\",seed=42)\n",
    "train_data = train_data.map(scale_images)\n",
    "train_size = int(len(train_data))\n",
    "train_data_final = train_data.take(train_size)\n",
    "print(train_size)"
   ]
  },
  {
   "cell_type": "code",
   "execution_count": 6,
   "id": "59768c0e-5221-41fa-aafc-4abed9f54dff",
   "metadata": {
    "tags": []
   },
   "outputs": [
    {
     "name": "stdout",
     "output_type": "stream",
     "text": [
      "Found 8863 files belonging to 2 classes.\n",
      "Using 1772 files for validation.\n",
      "56\n"
     ]
    }
   ],
   "source": [
    "val_data = tf.keras.utils.image_dataset_from_directory(train, image_size=(256, 256), labels=\"inferred\", label_mode=\"categorical\", validation_split=0.2, subset=\"validation\", seed=42)\n",
    "val_data = val_data.map(scale_images)\n",
    "val_data_final = val_data.take(len(val_data))\n",
    "print(len(val_data))"
   ]
  },
  {
   "cell_type": "code",
   "execution_count": 7,
   "id": "1abef11f-f54b-45d4-b436-0ad9061a77f0",
   "metadata": {
    "tags": []
   },
   "outputs": [],
   "source": [
    "#VGG16"
   ]
  },
  {
   "cell_type": "code",
   "execution_count": 8,
   "id": "f67598c7-eec9-4794-8c06-93ff67385bde",
   "metadata": {
    "tags": []
   },
   "outputs": [
    {
     "name": "stdout",
     "output_type": "stream",
     "text": [
      "100%|█████| 20/20 [1:41:53<00:00, 305.68s/trial, best loss: -0.9994356632232666]\n",
      "Best hyperparameters:\n",
      "{'activation_function': 2, 'learning_rate': 0, 'neurons': 2, 'optimizer': 0}\n"
     ]
    }
   ],
   "source": [
    "import numpy as np\n",
    "from tensorflow.keras.applications import VGG16\n",
    "from tensorflow.keras.models import Sequential\n",
    "from tensorflow.keras.layers import Dense, Flatten\n",
    "from tensorflow.keras.optimizers import Adam, SGD, RMSprop\n",
    "from hyperopt import hp, fmin, tpe, Trials\n",
    "\n",
    "vgg16_model = VGG16(weights='imagenet', include_top=False, input_shape=(256, 256, 3))\n",
    "\n",
    "for layer in vgg16_model.layers:\n",
    "    layer.trainable = False\n",
    "\n",
    "space = {\n",
    "    'learning_rate': hp.choice('learning_rate', [1e-3, 1e-4, 1e-5, 1e-6]),\n",
    "    'optimizer': hp.choice('optimizer', [Adam, SGD, RMSprop]),\n",
    "    'neurons': hp.choice('neurons', [64, 128, 256]),   \n",
    "    'activation_function': hp.choice('activation_function', ['relu', 'tanh', 'sigmoid'])\n",
    "}\n",
    "\n",
    "\n",
    "def objective(params):\n",
    "  \n",
    "    model = Sequential()\n",
    "\n",
    "    model.add(vgg16_model)\n",
    "\n",
    "    model.add(Flatten())\n",
    "\n",
    "    model.add(Dense(params['neurons'], activation=params['activation_function']))\n",
    "\n",
    "    model.add(Dense(2, activation='softmax'))\n",
    "    \n",
    "    optimizer = params['optimizer'](learning_rate=params['learning_rate'])\n",
    "    \n",
    "    model.compile(optimizer=optimizer, loss='binary_crossentropy', metrics=['accuracy'])\n",
    "    \n",
    "    early_stopping = EarlyStopping(monitor='val_loss', patience=5, restore_best_weights=True)\n",
    "    history = model.fit(train_data_final, epochs=10, validation_data=val_data_final, callbacks=[early_stopping],verbose=0)\n",
    "\n",
    "    val_accuracy = np.max(history.history['val_accuracy'])\n",
    "    \n",
    "    return -val_accuracy\n",
    "\n",
    "trials = Trials()\n",
    "\n",
    "best = fmin(fn=objective, space=space, algo=tpe.suggest, max_evals=20, trials=trials)\n",
    "\n",
    "print(\"Best hyperparameters:\")\n",
    "print(best)"
   ]
  },
  {
   "cell_type": "code",
   "execution_count": null,
   "id": "4ff0ad6b-1905-4e82-92d4-0b1c8e3232a5",
   "metadata": {},
   "outputs": [],
   "source": []
  }
 ],
 "metadata": {
  "kernelspec": {
   "display_name": "Python 3 (ipykernel)",
   "language": "python",
   "name": "python3"
  },
  "language_info": {
   "codemirror_mode": {
    "name": "ipython",
    "version": 3
   },
   "file_extension": ".py",
   "mimetype": "text/x-python",
   "name": "python",
   "nbconvert_exporter": "python",
   "pygments_lexer": "ipython3",
   "version": "3.8.18"
  }
 },
 "nbformat": 4,
 "nbformat_minor": 5
}
