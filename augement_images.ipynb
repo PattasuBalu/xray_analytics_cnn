{
 "cells": [
  {
   "cell_type": "code",
   "execution_count": 10,
   "id": "df16630e-0976-4544-8f2a-1de85d92f6a3",
   "metadata": {},
   "outputs": [],
   "source": [
    "import os\n",
    "import imgaug as ia\n",
    "from imgaug import augmenters as iaa\n",
    "import numpy as np\n",
    "from PIL import Image\n",
    "\n",
    "# Create an augmentation sequence\n",
    "seq = iaa.Sequential([\n",
    "    iaa.Affine(rotate=(-40, 40)),\n",
    "    iaa.Crop(percent=(0, 0.2)),\n",
    "    iaa.Fliplr(0.5),\n",
    "    iaa.GaussianBlur(sigma=(0, 3.0)),\n",
    "    iaa.AdditiveGaussianNoise(scale=(0, 0.1 * 255)),\n",
    "])\n",
    "\n",
    "# Define a function to apply data augmentation to images in a directory and save them\n",
    "def augment_and_save_images(input_dir, output_dir, num_samples_per_image=5):\n",
    "    if not os.path.exists(output_dir):\n",
    "        os.makedirs(output_dir)\n",
    "\n",
    "    for filename in os.listdir(input_dir):\n",
    "        if filename.endswith(\".jpg\") or filename.endswith(\".jpeg\") or filename.endswith(\".png\"):\n",
    "            image_path = os.path.join(input_dir, filename)\n",
    "            img = Image.open(image_path)\n",
    "            img = img.resize((256, 256))\n",
    "\n",
    "            images = [np.array(img) for _ in range(num_samples_per_image)]\n",
    "            augmented_images = seq(images=images)\n",
    "\n",
    "            for i, augmented_image in enumerate(augmented_images):\n",
    "                augmented_img = Image.fromarray(augmented_image)\n",
    "\n",
    "                save_path = os.path.join(output_dir, f'augmented_{i}_{filename}')\n",
    "                augmented_img.save(save_path)\n",
    "\n",
    "# Example usage:\n",
    "input_directory = '/mnt/949C63A89C638398/DUMP/Notebook/xray_class/data/dataset_4/train/images'\n",
    "output_directory = '/mnt/949C63A89C638398/DUMP/Notebook/xray_class/data/dataset_4/train/augmented_images'\n",
    "\n",
    "augment_and_save_images(input_directory, output_directory, num_samples_per_image=13)\n"
   ]
  },
  {
   "cell_type": "code",
   "execution_count": null,
   "id": "603f0471-d0b7-4974-9e4e-70f877fd8871",
   "metadata": {},
   "outputs": [],
   "source": []
  }
 ],
 "metadata": {
  "kernelspec": {
   "display_name": "Python 3 (ipykernel)",
   "language": "python",
   "name": "python3"
  },
  "language_info": {
   "codemirror_mode": {
    "name": "ipython",
    "version": 3
   },
   "file_extension": ".py",
   "mimetype": "text/x-python",
   "name": "python",
   "nbconvert_exporter": "python",
   "pygments_lexer": "ipython3",
   "version": "3.7.16"
  }
 },
 "nbformat": 4,
 "nbformat_minor": 5
}
